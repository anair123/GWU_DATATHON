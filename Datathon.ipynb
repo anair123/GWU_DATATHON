{
  "nbformat": 4,
  "nbformat_minor": 0,
  "metadata": {
    "colab": {
      "name": "Datathon",
      "provenance": []
    },
    "kernelspec": {
      "name": "python3",
      "display_name": "Python 3"
    },
    "language_info": {
      "name": "python"
    }
  },
  "cells": [
    {
      "cell_type": "markdown",
      "metadata": {
        "id": "WKI-c5gLJplO"
      },
      "source": [
        "# Abstract"
      ]
    },
    {
      "cell_type": "markdown",
      "metadata": {
        "id": "7IGD14e6M-Vi"
      },
      "source": [
        "Creating a model that predicts fatality of crashes can give more insight into what factors play into the deaths occur in a crash. For this case study, an artificial neural network with 3 hidden layers is used to predict the outcome of crashes. To compensate for the data imbalance prevailant in the target variable, the oversampling process called SMOTE is utilized to supplement the training data to better identify fatality. The main metric for evaluating the model's performance is recall, since it is not ideal for the model to register many false negatives in this scenario (i.e. predicting a non-fatal outcome for the actual fatal outcome). The model yielded a recall value of 0.352.  "
      ]
    },
    {
      "cell_type": "markdown",
      "metadata": {
        "id": "9s9YBwIWwMeh"
      },
      "source": [
        "# Pipeline"
      ]
    },
    {
      "cell_type": "markdown",
      "metadata": {
        "id": "o9aZNNqBwS9T"
      },
      "source": [
        "## Installing Libraries"
      ]
    },
    {
      "cell_type": "code",
      "metadata": {
        "colab": {
          "base_uri": "https://localhost:8080/"
        },
        "id": "uHcv8QimrIEI",
        "outputId": "2e8b8ae0-04b5-4dd7-91ca-bdc0fe284b21"
      },
      "source": [
        "import numpy as np\n",
        "import pandas as pd\n",
        "import seaborn as sns\n",
        "import matplotlib.pyplot as plt\n",
        "from scipy import stats\n",
        "from sklearn.model_selection import train_test_split\n",
        "from sklearn.preprocessing import MinMaxScaler\n",
        "from sklearn.metrics import confusion_matrix, classification_report\n",
        "from sklearn.ensemble import RandomForestClassifier\n",
        "import tensorflow as tf\n",
        "from tensorflow import keras\n",
        "from keras.models import Sequential, load_model\n",
        "from keras.layers import Dense, LSTM, Dropout, BatchNormalization\n",
        "from keras.callbacks import ModelCheckpoint\n",
        "import keras.backend as K\n",
        "from keras.optimizers import Adam, Adamax, Adagrad, Adadelta\n",
        "from collections import Counter\n",
        "from sklearn.metrics import precision_recall_fscore_support\n",
        "from imblearn.over_sampling import SMOTE\n",
        "from keras.wrappers.scikit_learn import KerasClassifier\n",
        "from sklearn.metrics import f1_score, precision_score, recall_score, accuracy_score\n",
        "from sklearn.model_selection import GridSearchCV\n",
        "from sklearn.metrics import f1_score\n",
        "\n",
        "\n"
      ],
      "execution_count": 1,
      "outputs": [
        {
          "output_type": "stream",
          "text": [
            "/usr/local/lib/python3.7/dist-packages/sklearn/externals/six.py:31: FutureWarning: The module is deprecated in version 0.21 and will be removed in version 0.23 since we've dropped support for Python 2.7. Please rely on the official version of six (https://pypi.org/project/six/).\n",
            "  \"(https://pypi.org/project/six/).\", FutureWarning)\n",
            "/usr/local/lib/python3.7/dist-packages/sklearn/utils/deprecation.py:144: FutureWarning: The sklearn.neighbors.base module is  deprecated in version 0.22 and will be removed in version 0.24. The corresponding classes / functions should instead be imported from sklearn.neighbors. Anything that cannot be imported from sklearn.neighbors is now part of the private API.\n",
            "  warnings.warn(message, FutureWarning)\n"
          ],
          "name": "stderr"
        }
      ]
    },
    {
      "cell_type": "markdown",
      "metadata": {
        "id": "C86MX9JyvW6T"
      },
      "source": [
        "## Loading the Dataset"
      ]
    },
    {
      "cell_type": "code",
      "metadata": {
        "colab": {
          "base_uri": "https://localhost:8080/",
          "height": 333
        },
        "id": "j48wAX0Zwjf3",
        "outputId": "f5c7ed0b-8180-4310-e473-dc27bbe6afa5"
      },
      "source": [
        "df_raw = pd.read_csv('Crash_Details_Table.csv')\n",
        "df_raw.head()"
      ],
      "execution_count": 2,
      "outputs": [
        {
          "output_type": "stream",
          "text": [
            "/usr/local/lib/python3.7/dist-packages/IPython/core/interactiveshell.py:2718: DtypeWarning: Columns (2) have mixed types.Specify dtype option on import or set low_memory=False.\n",
            "  interactivity=interactivity, compiler=compiler, result=result)\n"
          ],
          "name": "stderr"
        },
        {
          "output_type": "execute_result",
          "data": {
            "text/html": [
              "<div>\n",
              "<style scoped>\n",
              "    .dataframe tbody tr th:only-of-type {\n",
              "        vertical-align: middle;\n",
              "    }\n",
              "\n",
              "    .dataframe tbody tr th {\n",
              "        vertical-align: top;\n",
              "    }\n",
              "\n",
              "    .dataframe thead th {\n",
              "        text-align: right;\n",
              "    }\n",
              "</style>\n",
              "<table border=\"1\" class=\"dataframe\">\n",
              "  <thead>\n",
              "    <tr style=\"text-align: right;\">\n",
              "      <th></th>\n",
              "      <th>OBJECTID</th>\n",
              "      <th>CRIMEID</th>\n",
              "      <th>CCN</th>\n",
              "      <th>PERSONID</th>\n",
              "      <th>PERSONTYPE</th>\n",
              "      <th>AGE</th>\n",
              "      <th>FATAL</th>\n",
              "      <th>MAJORINJURY</th>\n",
              "      <th>MINORINJURY</th>\n",
              "      <th>VEHICLEID</th>\n",
              "      <th>INVEHICLETYPE</th>\n",
              "      <th>TICKETISSUED</th>\n",
              "      <th>LICENSEPLATESTATE</th>\n",
              "      <th>IMPAIRED</th>\n",
              "      <th>SPEEDING</th>\n",
              "    </tr>\n",
              "  </thead>\n",
              "  <tbody>\n",
              "    <tr>\n",
              "      <th>0</th>\n",
              "      <td>438194351</td>\n",
              "      <td>26872544</td>\n",
              "      <td>16034312</td>\n",
              "      <td>84628234</td>\n",
              "      <td>Passenger</td>\n",
              "      <td>31.0</td>\n",
              "      <td>N</td>\n",
              "      <td>N</td>\n",
              "      <td>N</td>\n",
              "      <td>2275009</td>\n",
              "      <td>Passenger Car/automobile</td>\n",
              "      <td>N</td>\n",
              "      <td>VA</td>\n",
              "      <td>Y</td>\n",
              "      <td>N</td>\n",
              "    </tr>\n",
              "    <tr>\n",
              "      <th>1</th>\n",
              "      <td>438194352</td>\n",
              "      <td>26872544</td>\n",
              "      <td>16034312</td>\n",
              "      <td>84833902</td>\n",
              "      <td>Passenger</td>\n",
              "      <td>31.0</td>\n",
              "      <td>N</td>\n",
              "      <td>N</td>\n",
              "      <td>N</td>\n",
              "      <td>2275009</td>\n",
              "      <td>Passenger Car/automobile</td>\n",
              "      <td>N</td>\n",
              "      <td>VA</td>\n",
              "      <td>Y</td>\n",
              "      <td>N</td>\n",
              "    </tr>\n",
              "    <tr>\n",
              "      <th>2</th>\n",
              "      <td>438194353</td>\n",
              "      <td>26872544</td>\n",
              "      <td>16034312</td>\n",
              "      <td>84938064</td>\n",
              "      <td>Driver</td>\n",
              "      <td>NaN</td>\n",
              "      <td>N</td>\n",
              "      <td>N</td>\n",
              "      <td>N</td>\n",
              "      <td>2275007</td>\n",
              "      <td>Passenger Car/automobile</td>\n",
              "      <td>N</td>\n",
              "      <td>None</td>\n",
              "      <td>N</td>\n",
              "      <td>N</td>\n",
              "    </tr>\n",
              "    <tr>\n",
              "      <th>3</th>\n",
              "      <td>438194354</td>\n",
              "      <td>26872544</td>\n",
              "      <td>16034312</td>\n",
              "      <td>84790164</td>\n",
              "      <td>Driver</td>\n",
              "      <td>31.0</td>\n",
              "      <td>N</td>\n",
              "      <td>N</td>\n",
              "      <td>N</td>\n",
              "      <td>2275009</td>\n",
              "      <td>Passenger Car/automobile</td>\n",
              "      <td>N</td>\n",
              "      <td>VA</td>\n",
              "      <td>N</td>\n",
              "      <td>N</td>\n",
              "    </tr>\n",
              "    <tr>\n",
              "      <th>4</th>\n",
              "      <td>438194355</td>\n",
              "      <td>26872544</td>\n",
              "      <td>16034312</td>\n",
              "      <td>84953497</td>\n",
              "      <td>Passenger</td>\n",
              "      <td>47.0</td>\n",
              "      <td>N</td>\n",
              "      <td>N</td>\n",
              "      <td>Y</td>\n",
              "      <td>2275008</td>\n",
              "      <td>Passenger Car/automobile</td>\n",
              "      <td>N</td>\n",
              "      <td>VA</td>\n",
              "      <td>Y</td>\n",
              "      <td>N</td>\n",
              "    </tr>\n",
              "  </tbody>\n",
              "</table>\n",
              "</div>"
            ],
            "text/plain": [
              "    OBJECTID   CRIMEID       CCN  ...  LICENSEPLATESTATE IMPAIRED  SPEEDING\n",
              "0  438194351  26872544  16034312  ...                 VA        Y         N\n",
              "1  438194352  26872544  16034312  ...                 VA        Y         N\n",
              "2  438194353  26872544  16034312  ...               None        N         N\n",
              "3  438194354  26872544  16034312  ...                 VA        N         N\n",
              "4  438194355  26872544  16034312  ...                 VA        Y         N\n",
              "\n",
              "[5 rows x 15 columns]"
            ]
          },
          "metadata": {
            "tags": []
          },
          "execution_count": 2
        }
      ]
    },
    {
      "cell_type": "code",
      "metadata": {
        "colab": {
          "base_uri": "https://localhost:8080/"
        },
        "id": "EkY4Si-Hwz5H",
        "outputId": "b90f0ed6-52a1-48a9-e58f-83bab378eefe"
      },
      "source": [
        "df_raw.shape"
      ],
      "execution_count": 3,
      "outputs": [
        {
          "output_type": "execute_result",
          "data": {
            "text/plain": [
              "(596381, 15)"
            ]
          },
          "metadata": {
            "tags": []
          },
          "execution_count": 3
        }
      ]
    },
    {
      "cell_type": "markdown",
      "metadata": {
        "id": "kTyEpRT6vmoU"
      },
      "source": [
        "## Description of Dataset"
      ]
    },
    {
      "cell_type": "code",
      "metadata": {
        "colab": {
          "base_uri": "https://localhost:8080/"
        },
        "id": "_dc0gjJVwtAz",
        "outputId": "d9ae30f3-261e-4c65-9de3-dc239261c250"
      },
      "source": [
        "df_raw.info()"
      ],
      "execution_count": 4,
      "outputs": [
        {
          "output_type": "stream",
          "text": [
            "<class 'pandas.core.frame.DataFrame'>\n",
            "RangeIndex: 596381 entries, 0 to 596380\n",
            "Data columns (total 15 columns):\n",
            " #   Column             Non-Null Count   Dtype  \n",
            "---  ------             --------------   -----  \n",
            " 0   OBJECTID           596381 non-null  int64  \n",
            " 1   CRIMEID            596381 non-null  int64  \n",
            " 2   CCN                596381 non-null  object \n",
            " 3   PERSONID           596381 non-null  int64  \n",
            " 4   PERSONTYPE         596381 non-null  object \n",
            " 5   AGE                426744 non-null  float64\n",
            " 6   FATAL              596381 non-null  object \n",
            " 7   MAJORINJURY        596381 non-null  object \n",
            " 8   MINORINJURY        596381 non-null  object \n",
            " 9   VEHICLEID          596381 non-null  object \n",
            " 10  INVEHICLETYPE      596381 non-null  object \n",
            " 11  TICKETISSUED       596381 non-null  object \n",
            " 12  LICENSEPLATESTATE  596381 non-null  object \n",
            " 13  IMPAIRED           596381 non-null  object \n",
            " 14  SPEEDING           596381 non-null  object \n",
            "dtypes: float64(1), int64(3), object(11)\n",
            "memory usage: 68.3+ MB\n"
          ],
          "name": "stdout"
        }
      ]
    },
    {
      "cell_type": "code",
      "metadata": {
        "colab": {
          "base_uri": "https://localhost:8080/",
          "height": 295
        },
        "id": "Yq6DkkZVhe8u",
        "outputId": "e7bf0f67-aa25-44f4-f575-11ce9e2163fd"
      },
      "source": [
        "df_raw_age = df_raw[df_raw['AGE'].isna()==False]\n",
        "plt.hist(df_raw_age['AGE'], range=[0,100])\n",
        "plt.xlabel('Age')\n",
        "plt.ylabel('Frequency')\n",
        "plt.title('Age of Victims')\n",
        "plt.show()"
      ],
      "execution_count": 5,
      "outputs": [
        {
          "output_type": "display_data",
          "data": {
            "image/png": "[encoded data removed]",
            "text/plain": [
              "<Figure size 432x288 with 1 Axes>"
            ]
          },
          "metadata": {
            "tags": [],
            "needs_background": "light"
          }
        }
      ]
    },
    {
      "cell_type": "markdown",
      "metadata": {
        "id": "Gq1G4R77vrH1"
      },
      "source": [
        "## Data Preprocessing"
      ]
    },
    {
      "cell_type": "code",
      "metadata": {
        "colab": {
          "base_uri": "https://localhost:8080/"
        },
        "id": "Mh4qMxyyhgZ0",
        "outputId": "b7cfdb16-bc8a-440c-afca-67aeb92482f3"
      },
      "source": [
        "df = df_raw.fillna(np.median(df_raw_age['AGE']))\n",
        "print('All \"nan\" value in age feature replaced with {}'.format(np.median(df_raw_age['AGE'])))\n",
        "df.shape"
      ],
      "execution_count": 6,
      "outputs": [
        {
          "output_type": "stream",
          "text": [
            "All \"nan\" value in age feature replaced with 37.0\n"
          ],
          "name": "stdout"
        },
        {
          "output_type": "execute_result",
          "data": {
            "text/plain": [
              "(596381, 15)"
            ]
          },
          "metadata": {
            "tags": []
          },
          "execution_count": 6
        }
      ]
    },
    {
      "cell_type": "code",
      "metadata": {
        "colab": {
          "base_uri": "https://localhost:8080/"
        },
        "id": "IH79kffpij8n",
        "outputId": "666e65c4-6582-4a10-bae3-ed06df6e7bfe"
      },
      "source": [
        "df.columns"
      ],
      "execution_count": 7,
      "outputs": [
        {
          "output_type": "execute_result",
          "data": {
            "text/plain": [
              "Index(['OBJECTID', 'CRIMEID', 'CCN', 'PERSONID', 'PERSONTYPE', 'AGE', 'FATAL',\n",
              "       'MAJORINJURY', 'MINORINJURY', 'VEHICLEID', 'INVEHICLETYPE',\n",
              "       'TICKETISSUED', 'LICENSEPLATESTATE', 'IMPAIRED', 'SPEEDING'],\n",
              "      dtype='object')"
            ]
          },
          "metadata": {
            "tags": []
          },
          "execution_count": 7
        }
      ]
    },
    {
      "cell_type": "code",
      "metadata": {
        "id": "8eK0mkngidZh"
      },
      "source": [
        "features =['PERSONTYPE', 'AGE', 'FATAL', 'MAJORINJURY', 'MINORINJURY',\n",
        "       'INVEHICLETYPE', 'TICKETISSUED', 'LICENSEPLATESTATE', 'IMPAIRED', 'SPEEDING']"
      ],
      "execution_count": 8,
      "outputs": []
    },
    {
      "cell_type": "code",
      "metadata": {
        "id": "IHjVhRw2w2k6"
      },
      "source": [
        "df = df[features]"
      ],
      "execution_count": 9,
      "outputs": []
    },
    {
      "cell_type": "code",
      "metadata": {
        "colab": {
          "base_uri": "https://localhost:8080/"
        },
        "id": "Mt0ePrtmp2-x",
        "outputId": "afec196a-2df9-4167-9f7a-e0bea1b68e12"
      },
      "source": [
        "for feature in df.columns:\n",
        "  if df[feature].dtype == 'object':\n",
        "    num_category = len(df[feature].value_counts())\n",
        "    print('Number of categories for {} : {}'.format(feature, num_category))"
      ],
      "execution_count": 10,
      "outputs": [
        {
          "output_type": "stream",
          "text": [
            "Number of categories for PERSONTYPE : 4\n",
            "Number of categories for FATAL : 2\n",
            "Number of categories for MAJORINJURY : 2\n",
            "Number of categories for MINORINJURY : 2\n",
            "Number of categories for INVEHICLETYPE : 22\n",
            "Number of categories for TICKETISSUED : 2\n",
            "Number of categories for LICENSEPLATESTATE : 60\n",
            "Number of categories for IMPAIRED : 2\n",
            "Number of categories for SPEEDING : 2\n"
          ],
          "name": "stdout"
        }
      ]
    },
    {
      "cell_type": "code",
      "metadata": {
        "colab": {
          "base_uri": "https://localhost:8080/"
        },
        "id": "1QXdBKbd-mci",
        "outputId": "e0e92fb5-62c5-4e7c-d575-f5f4f7468eab"
      },
      "source": [
        "count_licence = df['LICENSEPLATESTATE'].value_counts()\n",
        "count_licence_percent = count_licence/len(df)*100 \n",
        "good_categories_index = [i for i, val in enumerate(count_licence_percent) if val >=5]\n",
        "good_categories = count_licence[good_categories_index]\n",
        "list(good_categories.index)"
      ],
      "execution_count": 11,
      "outputs": [
        {
          "output_type": "execute_result",
          "data": {
            "text/plain": [
              "['DC', 'MD', 'VA', ' None']"
            ]
          },
          "metadata": {
            "tags": []
          },
          "execution_count": 11
        }
      ]
    },
    {
      "cell_type": "code",
      "metadata": {
        "id": "OUUjhAVf0tJu"
      },
      "source": [
        "new_categories = list(good_categories.index)\n",
        "df['LICENSEPLATESTATE'] = df['LICENSEPLATESTATE'].apply(lambda x: x if x in new_categories else 'Other')"
      ],
      "execution_count": 12,
      "outputs": []
    },
    {
      "cell_type": "code",
      "metadata": {
        "colab": {
          "base_uri": "https://localhost:8080/"
        },
        "id": "XzF1hQcF7dP0",
        "outputId": "94693da3-fe60-408d-c0bd-e86052138f06"
      },
      "source": [
        "count_vehicle = df['INVEHICLETYPE'].value_counts()\n",
        "count_vehicle_percent = count_vehicle/len(df)*100\n",
        "good_categories_index = [i for i, val in enumerate(count_vehicle_percent) if val >=5]\n",
        "good_categories = count_vehicle[good_categories_index]\n",
        "list(good_categories.index)"
      ],
      "execution_count": 13,
      "outputs": [
        {
          "output_type": "execute_result",
          "data": {
            "text/plain": [
              "['Passenger Car/automobile', 'Other Vehicle', 'Suv (sport Utility Vehicle)']"
            ]
          },
          "metadata": {
            "tags": []
          },
          "execution_count": 13
        }
      ]
    },
    {
      "cell_type": "code",
      "metadata": {
        "id": "QN9NsGXU7a4c"
      },
      "source": [
        "new_categories = list(good_categories.index)\n",
        "df['INVEHICLETYPE'] = df['INVEHICLETYPE'].apply(lambda x: x if x in new_categories else 'Other Vehicle')"
      ],
      "execution_count": 14,
      "outputs": []
    },
    {
      "cell_type": "code",
      "metadata": {
        "colab": {
          "base_uri": "https://localhost:8080/",
          "height": 195
        },
        "id": "lpL6t__XpvvG",
        "outputId": "07256046-e1c7-4b75-c414-3507313523cc"
      },
      "source": [
        "df.head()"
      ],
      "execution_count": 15,
      "outputs": [
        {
          "output_type": "execute_result",
          "data": {
            "text/html": [
              "<div>\n",
              "<style scoped>\n",
              "    .dataframe tbody tr th:only-of-type {\n",
              "        vertical-align: middle;\n",
              "    }\n",
              "\n",
              "    .dataframe tbody tr th {\n",
              "        vertical-align: top;\n",
              "    }\n",
              "\n",
              "    .dataframe thead th {\n",
              "        text-align: right;\n",
              "    }\n",
              "</style>\n",
              "<table border=\"1\" class=\"dataframe\">\n",
              "  <thead>\n",
              "    <tr style=\"text-align: right;\">\n",
              "      <th></th>\n",
              "      <th>PERSONTYPE</th>\n",
              "      <th>AGE</th>\n",
              "      <th>FATAL</th>\n",
              "      <th>MAJORINJURY</th>\n",
              "      <th>MINORINJURY</th>\n",
              "      <th>INVEHICLETYPE</th>\n",
              "      <th>TICKETISSUED</th>\n",
              "      <th>LICENSEPLATESTATE</th>\n",
              "      <th>IMPAIRED</th>\n",
              "      <th>SPEEDING</th>\n",
              "    </tr>\n",
              "  </thead>\n",
              "  <tbody>\n",
              "    <tr>\n",
              "      <th>0</th>\n",
              "      <td>Passenger</td>\n",
              "      <td>31.0</td>\n",
              "      <td>N</td>\n",
              "      <td>N</td>\n",
              "      <td>N</td>\n",
              "      <td>Passenger Car/automobile</td>\n",
              "      <td>N</td>\n",
              "      <td>VA</td>\n",
              "      <td>Y</td>\n",
              "      <td>N</td>\n",
              "    </tr>\n",
              "    <tr>\n",
              "      <th>1</th>\n",
              "      <td>Passenger</td>\n",
              "      <td>31.0</td>\n",
              "      <td>N</td>\n",
              "      <td>N</td>\n",
              "      <td>N</td>\n",
              "      <td>Passenger Car/automobile</td>\n",
              "      <td>N</td>\n",
              "      <td>VA</td>\n",
              "      <td>Y</td>\n",
              "      <td>N</td>\n",
              "    </tr>\n",
              "    <tr>\n",
              "      <th>2</th>\n",
              "      <td>Driver</td>\n",
              "      <td>37.0</td>\n",
              "      <td>N</td>\n",
              "      <td>N</td>\n",
              "      <td>N</td>\n",
              "      <td>Passenger Car/automobile</td>\n",
              "      <td>N</td>\n",
              "      <td>None</td>\n",
              "      <td>N</td>\n",
              "      <td>N</td>\n",
              "    </tr>\n",
              "    <tr>\n",
              "      <th>3</th>\n",
              "      <td>Driver</td>\n",
              "      <td>31.0</td>\n",
              "      <td>N</td>\n",
              "      <td>N</td>\n",
              "      <td>N</td>\n",
              "      <td>Passenger Car/automobile</td>\n",
              "      <td>N</td>\n",
              "      <td>VA</td>\n",
              "      <td>N</td>\n",
              "      <td>N</td>\n",
              "    </tr>\n",
              "    <tr>\n",
              "      <th>4</th>\n",
              "      <td>Passenger</td>\n",
              "      <td>47.0</td>\n",
              "      <td>N</td>\n",
              "      <td>N</td>\n",
              "      <td>Y</td>\n",
              "      <td>Passenger Car/automobile</td>\n",
              "      <td>N</td>\n",
              "      <td>VA</td>\n",
              "      <td>Y</td>\n",
              "      <td>N</td>\n",
              "    </tr>\n",
              "  </tbody>\n",
              "</table>\n",
              "</div>"
            ],
            "text/plain": [
              "  PERSONTYPE   AGE FATAL  ... LICENSEPLATESTATE IMPAIRED SPEEDING\n",
              "0  Passenger  31.0     N  ...                VA        Y        N\n",
              "1  Passenger  31.0     N  ...                VA        Y        N\n",
              "2     Driver  37.0     N  ...              None        N        N\n",
              "3     Driver  31.0     N  ...                VA        N        N\n",
              "4  Passenger  47.0     N  ...                VA        Y        N\n",
              "\n",
              "[5 rows x 10 columns]"
            ]
          },
          "metadata": {
            "tags": []
          },
          "execution_count": 15
        }
      ]
    },
    {
      "cell_type": "markdown",
      "metadata": {
        "id": "fOZ4NdB5vrE7"
      },
      "source": [
        "## Exploratory Data Analysis"
      ]
    },
    {
      "cell_type": "markdown",
      "metadata": {
        "id": "79UK0VN5xpSb"
      },
      "source": [
        "### Fatality Rate"
      ]
    },
    {
      "cell_type": "code",
      "metadata": {
        "colab": {
          "base_uri": "https://localhost:8080/",
          "height": 355
        },
        "id": "-KhqsXSrxs_k",
        "outputId": "9bf6ceb2-eae2-4227-b5de-38189c17fdea"
      },
      "source": [
        "count_fatal = pd.DataFrame(df['FATAL'].value_counts())\n",
        "\n",
        "plt.figure(figsize=(8,5))\n",
        "sns.set(style='whitegrid')\n",
        "ax = sns.barplot(x=count_fatal.index, y=count_fatal['FATAL'])\n",
        "ax.set(xlabel='Outcome', ylabel='Number of Occurances')\n",
        "ax.set_title('Outcome of Crash')\n",
        "ax.set_yscale('log')\n",
        "ax.set_xticklabels(['Not Fatal', 'Fatal'])\n",
        "\n",
        "for bar in ax.patches:\n",
        "  ax.text(bar.get_x()+0.25, bar.get_height()+10, str(round(bar.get_height(),2)), fontsize=15)\n",
        "# annotate bar chart\n",
        "\n",
        "plt.show()"
      ],
      "execution_count": 16,
      "outputs": [
        {
          "output_type": "display_data",
          "data": {
            "image/png": "[encoded data removed]",
            "text/plain": [
              "<Figure size 576x360 with 1 Axes>"
            ]
          },
          "metadata": {
            "tags": [],
            "needs_background": "light"
          }
        }
      ]
    },
    {
      "cell_type": "markdown",
      "metadata": {
        "id": "5eM_CSh4xeOx"
      },
      "source": [
        "### Victim Age"
      ]
    },
    {
      "cell_type": "code",
      "metadata": {
        "colab": {
          "base_uri": "https://localhost:8080/",
          "height": 355
        },
        "id": "STVLYivO6oOL",
        "outputId": "cf58a122-caf3-4196-a34b-12af37b17689"
      },
      "source": [
        "plt.figure(figsize=(8,5))\n",
        "plt.hist(df['AGE'], range=[0,90])\n",
        "plt.xlabel('Age')\n",
        "plt.ylabel('Frequency')\n",
        "plt.title('Age of Victims')\n",
        "plt.show()"
      ],
      "execution_count": 17,
      "outputs": [
        {
          "output_type": "display_data",
          "data": {
            "image/png": "[encoded data removed]",
            "text/plain": [
              "<Figure size 576x360 with 1 Axes>"
            ]
          },
          "metadata": {
            "tags": []
          }
        }
      ]
    },
    {
      "cell_type": "markdown",
      "metadata": {
        "id": "9Hx7J7KrxeI7"
      },
      "source": [
        "### License Plate States"
      ]
    },
    {
      "cell_type": "code",
      "metadata": {
        "colab": {
          "base_uri": "https://localhost:8080/",
          "height": 482
        },
        "id": "Hl6eXMjr9vU2",
        "outputId": "f07f2ca8-de77-44b4-f055-c13d51eac92d"
      },
      "source": [
        "plt.figure(figsize=(8,8))\n",
        "count_licence = df['LICENSEPLATESTATE'].value_counts()\n",
        "explode = [.05 for _ in range(len(count_licence))]\n",
        "label = count_licence.index\n",
        "plt.pie(count_licence, explode=explode, labels=label, shadow=True, autopct='%1.1f%%')\n",
        "plt.title('State Licences from Crash (Modified)')\n",
        "plt.show()"
      ],
      "execution_count": 18,
      "outputs": [
        {
          "output_type": "display_data",
          "data": {
            "image/png": "[encoded data removed]",
            "text/plain": [
              "<Figure size 576x576 with 1 Axes>"
            ]
          },
          "metadata": {
            "tags": []
          }
        }
      ]
    },
    {
      "cell_type": "markdown",
      "metadata": {
        "id": "kyfkUVVOxd9P"
      },
      "source": [
        "### Vehicle Type"
      ]
    },
    {
      "cell_type": "code",
      "metadata": {
        "colab": {
          "base_uri": "https://localhost:8080/",
          "height": 482
        },
        "id": "MXIcHxS3xdRr",
        "outputId": "aafb6b56-2f87-4d86-fc13-745be9472acd"
      },
      "source": [
        "plt.figure(figsize=(8,8))\n",
        "count_vehicle = df['INVEHICLETYPE'].value_counts()\n",
        "explode = [.05 for _ in range(len(count_vehicle))]\n",
        "label = count_vehicle.index\n",
        "plt.pie(count_vehicle, explode=explode, labels=label, shadow=True, autopct='%1.1f%%')\n",
        "plt.title('State Licences from Crash (Modified)')\n",
        "plt.show()"
      ],
      "execution_count": 19,
      "outputs": [
        {
          "output_type": "display_data",
          "data": {
            "image/png": "[encoded data removed]",
            "text/plain": [
              "<Figure size 576x576 with 1 Axes>"
            ]
          },
          "metadata": {
            "tags": []
          }
        }
      ]
    },
    {
      "cell_type": "code",
      "metadata": {
        "colab": {
          "base_uri": "https://localhost:8080/"
        },
        "id": "XbZooIALAvMU",
        "outputId": "c9914767-2459-42db-f759-c46a1efeda97"
      },
      "source": [
        "df.columns"
      ],
      "execution_count": 20,
      "outputs": [
        {
          "output_type": "execute_result",
          "data": {
            "text/plain": [
              "Index(['PERSONTYPE', 'AGE', 'FATAL', 'MAJORINJURY', 'MINORINJURY',\n",
              "       'INVEHICLETYPE', 'TICKETISSUED', 'LICENSEPLATESTATE', 'IMPAIRED',\n",
              "       'SPEEDING'],\n",
              "      dtype='object')"
            ]
          },
          "metadata": {
            "tags": []
          },
          "execution_count": 20
        }
      ]
    },
    {
      "cell_type": "markdown",
      "metadata": {
        "id": "heSrA23gvq-v"
      },
      "source": [
        "## Model Selection"
      ]
    },
    {
      "cell_type": "code",
      "metadata": {
        "colab": {
          "base_uri": "https://localhost:8080/",
          "height": 249
        },
        "id": "mW3ecwDGndsI",
        "outputId": "05d0e5ad-df89-420c-a5f4-2670988475f6"
      },
      "source": [
        "for feature in df.columns:\n",
        "  if len(df[feature].value_counts()) == 2:\n",
        "    df[feature] = df[feature].map({'N':0, 'Y':1})\n",
        "df = pd.get_dummies(df)\n",
        "df.head()"
      ],
      "execution_count": 21,
      "outputs": [
        {
          "output_type": "execute_result",
          "data": {
            "text/html": [
              "<div>\n",
              "<style scoped>\n",
              "    .dataframe tbody tr th:only-of-type {\n",
              "        vertical-align: middle;\n",
              "    }\n",
              "\n",
              "    .dataframe tbody tr th {\n",
              "        vertical-align: top;\n",
              "    }\n",
              "\n",
              "    .dataframe thead th {\n",
              "        text-align: right;\n",
              "    }\n",
              "</style>\n",
              "<table border=\"1\" class=\"dataframe\">\n",
              "  <thead>\n",
              "    <tr style=\"text-align: right;\">\n",
              "      <th></th>\n",
              "      <th>AGE</th>\n",
              "      <th>FATAL</th>\n",
              "      <th>MAJORINJURY</th>\n",
              "      <th>MINORINJURY</th>\n",
              "      <th>TICKETISSUED</th>\n",
              "      <th>IMPAIRED</th>\n",
              "      <th>SPEEDING</th>\n",
              "      <th>PERSONTYPE_Bicyclist</th>\n",
              "      <th>PERSONTYPE_Driver</th>\n",
              "      <th>PERSONTYPE_Passenger</th>\n",
              "      <th>PERSONTYPE_Pedestrian</th>\n",
              "      <th>INVEHICLETYPE_Other Vehicle</th>\n",
              "      <th>INVEHICLETYPE_Passenger Car/automobile</th>\n",
              "      <th>INVEHICLETYPE_Suv (sport Utility Vehicle)</th>\n",
              "      <th>LICENSEPLATESTATE_ None</th>\n",
              "      <th>LICENSEPLATESTATE_DC</th>\n",
              "      <th>LICENSEPLATESTATE_MD</th>\n",
              "      <th>LICENSEPLATESTATE_Other</th>\n",
              "      <th>LICENSEPLATESTATE_VA</th>\n",
              "    </tr>\n",
              "  </thead>\n",
              "  <tbody>\n",
              "    <tr>\n",
              "      <th>0</th>\n",
              "      <td>31.0</td>\n",
              "      <td>0</td>\n",
              "      <td>0</td>\n",
              "      <td>0</td>\n",
              "      <td>0</td>\n",
              "      <td>1</td>\n",
              "      <td>0</td>\n",
              "      <td>0</td>\n",
              "      <td>0</td>\n",
              "      <td>1</td>\n",
              "      <td>0</td>\n",
              "      <td>0</td>\n",
              "      <td>1</td>\n",
              "      <td>0</td>\n",
              "      <td>0</td>\n",
              "      <td>0</td>\n",
              "      <td>0</td>\n",
              "      <td>0</td>\n",
              "      <td>1</td>\n",
              "    </tr>\n",
              "    <tr>\n",
              "      <th>1</th>\n",
              "      <td>31.0</td>\n",
              "      <td>0</td>\n",
              "      <td>0</td>\n",
              "      <td>0</td>\n",
              "      <td>0</td>\n",
              "      <td>1</td>\n",
              "      <td>0</td>\n",
              "      <td>0</td>\n",
              "      <td>0</td>\n",
              "      <td>1</td>\n",
              "      <td>0</td>\n",
              "      <td>0</td>\n",
              "      <td>1</td>\n",
              "      <td>0</td>\n",
              "      <td>0</td>\n",
              "      <td>0</td>\n",
              "      <td>0</td>\n",
              "      <td>0</td>\n",
              "      <td>1</td>\n",
              "    </tr>\n",
              "    <tr>\n",
              "      <th>2</th>\n",
              "      <td>37.0</td>\n",
              "      <td>0</td>\n",
              "      <td>0</td>\n",
              "      <td>0</td>\n",
              "      <td>0</td>\n",
              "      <td>0</td>\n",
              "      <td>0</td>\n",
              "      <td>0</td>\n",
              "      <td>1</td>\n",
              "      <td>0</td>\n",
              "      <td>0</td>\n",
              "      <td>0</td>\n",
              "      <td>1</td>\n",
              "      <td>0</td>\n",
              "      <td>1</td>\n",
              "      <td>0</td>\n",
              "      <td>0</td>\n",
              "      <td>0</td>\n",
              "      <td>0</td>\n",
              "    </tr>\n",
              "    <tr>\n",
              "      <th>3</th>\n",
              "      <td>31.0</td>\n",
              "      <td>0</td>\n",
              "      <td>0</td>\n",
              "      <td>0</td>\n",
              "      <td>0</td>\n",
              "      <td>0</td>\n",
              "      <td>0</td>\n",
              "      <td>0</td>\n",
              "      <td>1</td>\n",
              "      <td>0</td>\n",
              "      <td>0</td>\n",
              "      <td>0</td>\n",
              "      <td>1</td>\n",
              "      <td>0</td>\n",
              "      <td>0</td>\n",
              "      <td>0</td>\n",
              "      <td>0</td>\n",
              "      <td>0</td>\n",
              "      <td>1</td>\n",
              "    </tr>\n",
              "    <tr>\n",
              "      <th>4</th>\n",
              "      <td>47.0</td>\n",
              "      <td>0</td>\n",
              "      <td>0</td>\n",
              "      <td>1</td>\n",
              "      <td>0</td>\n",
              "      <td>1</td>\n",
              "      <td>0</td>\n",
              "      <td>0</td>\n",
              "      <td>0</td>\n",
              "      <td>1</td>\n",
              "      <td>0</td>\n",
              "      <td>0</td>\n",
              "      <td>1</td>\n",
              "      <td>0</td>\n",
              "      <td>0</td>\n",
              "      <td>0</td>\n",
              "      <td>0</td>\n",
              "      <td>0</td>\n",
              "      <td>1</td>\n",
              "    </tr>\n",
              "  </tbody>\n",
              "</table>\n",
              "</div>"
            ],
            "text/plain": [
              "    AGE  FATAL  ...  LICENSEPLATESTATE_Other  LICENSEPLATESTATE_VA\n",
              "0  31.0      0  ...                        0                     1\n",
              "1  31.0      0  ...                        0                     1\n",
              "2  37.0      0  ...                        0                     0\n",
              "3  31.0      0  ...                        0                     1\n",
              "4  47.0      0  ...                        0                     1\n",
              "\n",
              "[5 rows x 19 columns]"
            ]
          },
          "metadata": {
            "tags": []
          },
          "execution_count": 21
        }
      ]
    },
    {
      "cell_type": "code",
      "metadata": {
        "colab": {
          "base_uri": "https://localhost:8080/"
        },
        "id": "RcM2vGrV6pMa",
        "outputId": "b0b18b96-1c38-45d7-aca3-5d6f47871f6b"
      },
      "source": [
        "df.shape"
      ],
      "execution_count": 22,
      "outputs": [
        {
          "output_type": "execute_result",
          "data": {
            "text/plain": [
              "(596381, 19)"
            ]
          },
          "metadata": {
            "tags": []
          },
          "execution_count": 22
        }
      ]
    },
    {
      "cell_type": "code",
      "metadata": {
        "id": "gAICKRczwTaO"
      },
      "source": [
        "target = 'FATAL'"
      ],
      "execution_count": 23,
      "outputs": []
    },
    {
      "cell_type": "code",
      "metadata": {
        "colab": {
          "base_uri": "https://localhost:8080/"
        },
        "id": "Ig0-uVyOnqJW",
        "outputId": "c1c0a83b-8db4-4dd5-9728-5bd1c0d55cea"
      },
      "source": [
        "X = df.drop(target, axis=1)\n",
        "y = df[target]\n",
        "\n",
        "Counter(y)"
      ],
      "execution_count": 24,
      "outputs": [
        {
          "output_type": "execute_result",
          "data": {
            "text/plain": [
              "Counter({0: 595964, 1: 417})"
            ]
          },
          "metadata": {
            "tags": []
          },
          "execution_count": 24
        }
      ]
    },
    {
      "cell_type": "code",
      "metadata": {
        "id": "3Qq45yUinzix"
      },
      "source": [
        ""
      ],
      "execution_count": 24,
      "outputs": []
    },
    {
      "cell_type": "code",
      "metadata": {
        "colab": {
          "base_uri": "https://localhost:8080/"
        },
        "id": "wXLmBaNtpeA1",
        "outputId": "c35a6624-3995-4639-9585-8b568cba9dd7"
      },
      "source": [
        "X_train, X_test, y_train, y_test = train_test_split(X, y, test_size=0.3, random_state=42, stratify=y)\n",
        "\n",
        "smote = SMOTE(sampling_strategy='minority')\n",
        "X_sm, y_sm = smote.fit_sample(X_train, y_train)\n",
        "\n",
        "X_train, X_valid, y_train, y_valid = train_test_split(X_sm, y_sm, test_size=0.3, random_state=42, stratify=y_sm)\n",
        "\n",
        "print('X_train dimensions: ',X_train.shape)\n",
        "print('y_train dimensions: ',y_train.shape)\n",
        "print('X_test dimensions: ',X_test.shape)\n",
        "print('y_test dimensions: ',y_test.shape)\n",
        "print('X_valid dimensions: ',X_valid.shape)\n",
        "print('y_valid dimensions: ',y_valid.shape)"
      ],
      "execution_count": 25,
      "outputs": [
        {
          "output_type": "stream",
          "text": [
            "/usr/local/lib/python3.7/dist-packages/sklearn/utils/deprecation.py:87: FutureWarning: Function safe_indexing is deprecated; safe_indexing is deprecated in version 0.22 and will be removed in version 0.24.\n",
            "  warnings.warn(msg, category=FutureWarning)\n"
          ],
          "name": "stderr"
        },
        {
          "output_type": "stream",
          "text": [
            "X_train dimensions:  (584043, 18)\n",
            "y_train dimensions:  (584043,)\n",
            "X_test dimensions:  (178915, 18)\n",
            "y_test dimensions:  (178915,)\n",
            "X_valid dimensions:  (250305, 18)\n",
            "y_valid dimensions:  (250305,)\n"
          ],
          "name": "stdout"
        }
      ]
    },
    {
      "cell_type": "code",
      "metadata": {
        "colab": {
          "base_uri": "https://localhost:8080/"
        },
        "id": "snWkoMStoZD3",
        "outputId": "061ad3e1-f5a8-43ac-97a9-192f7d4408a7"
      },
      "source": [
        "counter = Counter(y_test)\n",
        "counter"
      ],
      "execution_count": 26,
      "outputs": [
        {
          "output_type": "execute_result",
          "data": {
            "text/plain": [
              "Counter({0: 178790, 1: 125})"
            ]
          },
          "metadata": {
            "tags": []
          },
          "execution_count": 26
        }
      ]
    },
    {
      "cell_type": "code",
      "metadata": {
        "id": "6if7McHnzO6I"
      },
      "source": [
        "# MinMaxScaler\n",
        "mms = MinMaxScaler()\n",
        "\n",
        "# Normalize the training data\n",
        "X_train = mms.fit_transform(X_train)\n",
        "\n",
        "# Normalize the training data\n",
        "X_test = mms.fit_transform(X_test)\n",
        "\n",
        "# Normalize the training data\n",
        "X_valid = mms.fit_transform(X_valid)\n"
      ],
      "execution_count": 27,
      "outputs": []
    },
    {
      "cell_type": "markdown",
      "metadata": {
        "id": "pHDDzAlOHVmK"
      },
      "source": [
        "### Support Vector Machine"
      ]
    },
    {
      "cell_type": "markdown",
      "metadata": {
        "id": "aCN_eX8_GMHV"
      },
      "source": [
        "### Neural Network"
      ]
    },
    {
      "cell_type": "code",
      "metadata": {
        "id": "HVezD_FQzryG"
      },
      "source": [
        "def create_model(learn_rate=0.0001, N_NEURONS=32):\n",
        "  model = Sequential()\n",
        "  model.add(Dense(N_NEURONS, input_dim=X_train.shape[1], activation='relu'))\n",
        "  model.add(Dropout(0.2))\n",
        "  model.add(BatchNormalization())\n",
        "\n",
        "  model.add(Dense(N_NEURONS, activation='relu'))\n",
        "  model.add(Dropout(0.2))\n",
        "\n",
        "  model.add(Dense(N_NEURONS, activation='relu'))\n",
        "  model.add(Dropout(0.2))\n",
        "  \n",
        "  model.add(Dense(1, activation='sigmoid'))\n",
        "\n",
        "  # 0.001\n",
        "  model.compile(loss='binary_crossentropy', optimizer=Adam(learning_rate=learn_rate), metrics=['accuracy'])\n",
        "\n",
        "  return model"
      ],
      "execution_count": 28,
      "outputs": []
    },
    {
      "cell_type": "code",
      "metadata": {
        "colab": {
          "base_uri": "https://localhost:8080/"
        },
        "id": "n_1ELl98PBAb",
        "outputId": "3971132f-8300-4ca7-d360-e33ceb687ca8"
      },
      "source": [
        "EPOCH = 10\n",
        "BATCH_SIZE = 128\n",
        "N_NEURONS = [64,128, 256]\n",
        "learn_rate = [0.00005, 0.0001, 0.001]\n",
        "param_grid = dict(learn_rate=learn_rate, N_NEURONS=N_NEURONS)\n",
        "\n",
        "model = KerasClassifier(build_fn=create_model, epochs=10, batch_size=128)\n",
        "model.fit(X_train, y_train)\n"
      ],
      "execution_count": 29,
      "outputs": [
        {
          "output_type": "stream",
          "text": [
            "Epoch 1/10\n",
            "4563/4563 [==============================] - 15s 3ms/step - loss: 0.5776 - accuracy: 0.6708\n",
            "Epoch 2/10\n",
            "4563/4563 [==============================] - 14s 3ms/step - loss: 0.4191 - accuracy: 0.7998\n",
            "Epoch 3/10\n",
            "4563/4563 [==============================] - 14s 3ms/step - loss: 0.3848 - accuracy: 0.8223\n",
            "Epoch 4/10\n",
            "4563/4563 [==============================] - 14s 3ms/step - loss: 0.3648 - accuracy: 0.8356\n",
            "Epoch 5/10\n",
            "4563/4563 [==============================] - 13s 3ms/step - loss: 0.3518 - accuracy: 0.8431\n",
            "Epoch 6/10\n",
            "4563/4563 [==============================] - 14s 3ms/step - loss: 0.3421 - accuracy: 0.8502\n",
            "Epoch 7/10\n",
            "4563/4563 [==============================] - 14s 3ms/step - loss: 0.3345 - accuracy: 0.8532\n",
            "Epoch 8/10\n",
            "4563/4563 [==============================] - 14s 3ms/step - loss: 0.3278 - accuracy: 0.8570\n",
            "Epoch 9/10\n",
            "4563/4563 [==============================] - 14s 3ms/step - loss: 0.3221 - accuracy: 0.8593\n",
            "Epoch 10/10\n",
            "4563/4563 [==============================] - 14s 3ms/step - loss: 0.3154 - accuracy: 0.8635\n"
          ],
          "name": "stdout"
        },
        {
          "output_type": "execute_result",
          "data": {
            "text/plain": [
              "<tensorflow.python.keras.callbacks.History at 0x7ff465ea9bd0>"
            ]
          },
          "metadata": {
            "tags": []
          },
          "execution_count": 29
        }
      ]
    },
    {
      "cell_type": "code",
      "metadata": {
        "colab": {
          "base_uri": "https://localhost:8080/"
        },
        "id": "LXQDPQRL2Nux",
        "outputId": "94264129-fa0f-4b54-b822-d535d65b821d"
      },
      "source": [
        "grid = GridSearchCV(estimator=model, param_grid=param_grid, n_jobs=-1, cv=3, verbose=3, scoring='f1_macro')\n",
        "grid_result = grid.fit(X_train, y_train)"
      ],
      "execution_count": 30,
      "outputs": [
        {
          "output_type": "stream",
          "text": [
            "Fitting 3 folds for each of 9 candidates, totalling 27 fits\n"
          ],
          "name": "stdout"
        },
        {
          "output_type": "stream",
          "text": [
            "[Parallel(n_jobs=-1)]: Using backend LokyBackend with 2 concurrent workers.\n",
            "[Parallel(n_jobs=-1)]: Done  27 out of  27 | elapsed: 54.8min finished\n"
          ],
          "name": "stderr"
        },
        {
          "output_type": "stream",
          "text": [
            "Epoch 1/10\n",
            "4563/4563 [==============================] - 47s 10ms/step - loss: 0.3970 - accuracy: 0.8056\n",
            "Epoch 2/10\n",
            "4563/4563 [==============================] - 46s 10ms/step - loss: 0.2736 - accuracy: 0.8767\n",
            "Epoch 3/10\n",
            "4563/4563 [==============================] - 46s 10ms/step - loss: 0.2477 - accuracy: 0.8902\n",
            "Epoch 4/10\n",
            "4563/4563 [==============================] - 46s 10ms/step - loss: 0.2300 - accuracy: 0.8975\n",
            "Epoch 5/10\n",
            "4563/4563 [==============================] - 47s 10ms/step - loss: 0.2184 - accuracy: 0.9023\n",
            "Epoch 6/10\n",
            "4563/4563 [==============================] - 47s 10ms/step - loss: 0.2078 - accuracy: 0.9066\n",
            "Epoch 7/10\n",
            "4563/4563 [==============================] - 47s 10ms/step - loss: 0.1971 - accuracy: 0.9109\n",
            "Epoch 8/10\n",
            "4563/4563 [==============================] - 47s 10ms/step - loss: 0.1927 - accuracy: 0.9138\n",
            "Epoch 9/10\n",
            "4563/4563 [==============================] - 46s 10ms/step - loss: 0.1870 - accuracy: 0.9167\n",
            "Epoch 10/10\n",
            "4563/4563 [==============================] - 47s 10ms/step - loss: 0.1824 - accuracy: 0.9187\n"
          ],
          "name": "stdout"
        }
      ]
    },
    {
      "cell_type": "code",
      "metadata": {
        "id": "CHeHO7PD_73_"
      },
      "source": [
        "means = grid_result.cv_results_['mean_test_score']\n",
        "stds = grid_result.cv_results_['std_test_score']\n",
        "params = grid_result.cv_results_['params']\n"
      ],
      "execution_count": 31,
      "outputs": []
    },
    {
      "cell_type": "code",
      "metadata": {
        "colab": {
          "base_uri": "https://localhost:8080/"
        },
        "id": "pAp-nQEQC8FN",
        "outputId": "ee2a147e-5b5e-4a2b-e7c5-4600d152e3b6"
      },
      "source": [
        "for mean, stdev, param in reversed(sorted(zip(means, stds, params))):\n",
        "    print('mean: {}, std: {}, param: {}'.format(mean, stdev, param))"
      ],
      "execution_count": 32,
      "outputs": [
        {
          "output_type": "stream",
          "text": [
            "mean: 0.9225620596415168, std: 0.0015563327065863705, param: {'N_NEURONS': 256, 'learn_rate': 0.0001}\n",
            "mean: 0.9171030380420188, std: 0.0025662368769372155, param: {'N_NEURONS': 256, 'learn_rate': 0.001}\n",
            "mean: 0.9141408148493692, std: 0.0014660890495735938, param: {'N_NEURONS': 128, 'learn_rate': 0.001}\n",
            "mean: 0.9108673854914646, std: 0.0011458665600863323, param: {'N_NEURONS': 64, 'learn_rate': 0.001}\n",
            "mean: 0.9079478835469321, std: 0.0023672031617937043, param: {'N_NEURONS': 128, 'learn_rate': 0.0001}\n",
            "mean: 0.8973636275397858, std: 0.0020692543164643772, param: {'N_NEURONS': 64, 'learn_rate': 0.0001}\n",
            "mean: 0.8554711243494509, std: 0.025811745253739707, param: {'N_NEURONS': 256, 'learn_rate': 0.01}\n",
            "mean: 0.8188383163650096, std: 0.028312760155015767, param: {'N_NEURONS': 64, 'learn_rate': 0.01}\n",
            "mean: 0.8050694957703822, std: 0.04339207647088461, param: {'N_NEURONS': 128, 'learn_rate': 0.01}\n"
          ],
          "name": "stdout"
        }
      ]
    },
    {
      "cell_type": "code",
      "metadata": {
        "colab": {
          "base_uri": "https://localhost:8080/"
        },
        "id": "hWx4r1cw3Baf",
        "outputId": "21435581-9fd1-4670-df74-2bf21af8e1c5"
      },
      "source": [
        "best_model = create_model(learn_rate=0.0001, N_NEURONS=256)\n",
        "callback = ModelCheckpoint('best_model.h5', monitor='val_loss', save_best_only=True)\n",
        "best_model.fit(X_train, y_train, validation_data=(X_valid, y_valid), batch_size=128, verbose=2, epochs=20, callbacks=[callback])"
      ],
      "execution_count": 34,
      "outputs": [
        {
          "output_type": "stream",
          "text": [
            "Epoch 1/20\n",
            "4563/4563 - 40s - loss: 0.3396 - accuracy: 0.8411 - val_loss: 0.6045 - val_accuracy: 0.7443\n",
            "Epoch 2/20\n",
            "4563/4563 - 38s - loss: 0.2677 - accuracy: 0.8793 - val_loss: 0.4405 - val_accuracy: 0.8086\n",
            "Epoch 3/20\n",
            "4563/4563 - 43s - loss: 0.2469 - accuracy: 0.8897 - val_loss: 0.4403 - val_accuracy: 0.7967\n",
            "Epoch 4/20\n",
            "4563/4563 - 38s - loss: 0.2310 - accuracy: 0.8970 - val_loss: 0.4580 - val_accuracy: 0.7830\n",
            "Epoch 5/20\n",
            "4563/4563 - 39s - loss: 0.2164 - accuracy: 0.9036 - val_loss: 0.7703 - val_accuracy: 0.7781\n",
            "Epoch 6/20\n",
            "4563/4563 - 38s - loss: 0.2046 - accuracy: 0.9079 - val_loss: 1.0980 - val_accuracy: 0.7524\n",
            "Epoch 7/20\n",
            "4563/4563 - 38s - loss: 0.1963 - accuracy: 0.9118 - val_loss: 1.3938 - val_accuracy: 0.7233\n",
            "Epoch 8/20\n",
            "4563/4563 - 38s - loss: 0.1906 - accuracy: 0.9147 - val_loss: 1.5685 - val_accuracy: 0.7146\n",
            "Epoch 9/20\n",
            "4563/4563 - 39s - loss: 0.1859 - accuracy: 0.9168 - val_loss: 1.8730 - val_accuracy: 0.7096\n",
            "Epoch 10/20\n",
            "4563/4563 - 39s - loss: 0.1824 - accuracy: 0.9178 - val_loss: 1.9496 - val_accuracy: 0.7121\n",
            "Epoch 11/20\n",
            "4563/4563 - 39s - loss: 0.1797 - accuracy: 0.9186 - val_loss: 2.5102 - val_accuracy: 0.6939\n",
            "Epoch 12/20\n",
            "4563/4563 - 38s - loss: 0.1768 - accuracy: 0.9197 - val_loss: 2.8696 - val_accuracy: 0.6944\n",
            "Epoch 13/20\n",
            "4563/4563 - 38s - loss: 0.1747 - accuracy: 0.9205 - val_loss: 3.0050 - val_accuracy: 0.6897\n",
            "Epoch 14/20\n",
            "4563/4563 - 38s - loss: 0.1732 - accuracy: 0.9213 - val_loss: 3.4412 - val_accuracy: 0.6835\n",
            "Epoch 15/20\n",
            "4563/4563 - 38s - loss: 0.1715 - accuracy: 0.9218 - val_loss: 3.6418 - val_accuracy: 0.6830\n",
            "Epoch 16/20\n",
            "4563/4563 - 38s - loss: 0.1698 - accuracy: 0.9224 - val_loss: 4.2518 - val_accuracy: 0.6773\n",
            "Epoch 17/20\n",
            "4563/4563 - 38s - loss: 0.1691 - accuracy: 0.9224 - val_loss: 4.7471 - val_accuracy: 0.6711\n",
            "Epoch 18/20\n",
            "4563/4563 - 39s - loss: 0.1675 - accuracy: 0.9230 - val_loss: 5.0628 - val_accuracy: 0.6697\n",
            "Epoch 19/20\n",
            "4563/4563 - 39s - loss: 0.1669 - accuracy: 0.9233 - val_loss: 5.3928 - val_accuracy: 0.6742\n",
            "Epoch 20/20\n",
            "4563/4563 - 39s - loss: 0.1665 - accuracy: 0.9234 - val_loss: 5.8403 - val_accuracy: 0.6706\n"
          ],
          "name": "stdout"
        },
        {
          "output_type": "execute_result",
          "data": {
            "text/plain": [
              "<tensorflow.python.keras.callbacks.History at 0x7ff465f8c590>"
            ]
          },
          "metadata": {
            "tags": []
          },
          "execution_count": 34
        }
      ]
    },
    {
      "cell_type": "code",
      "metadata": {
        "colab": {
          "base_uri": "https://localhost:8080/"
        },
        "id": "5AyCh7m70CZJ",
        "outputId": "302a497b-babd-4016-f3cf-57b6f97ed1ac"
      },
      "source": [
        "best_model = load_model('best_model.h5')\n",
        "y_test_pred = best_model.predict(X_test)\n",
        "y_test_pred = np.round(y_test_pred)\n",
        "y_test_pred[:10]"
      ],
      "execution_count": 36,
      "outputs": [
        {
          "output_type": "execute_result",
          "data": {
            "text/plain": [
              "array([[0.],\n",
              "       [0.],\n",
              "       [0.],\n",
              "       [0.],\n",
              "       [0.],\n",
              "       [0.],\n",
              "       [0.],\n",
              "       [0.],\n",
              "       [0.],\n",
              "       [0.]], dtype=float32)"
            ]
          },
          "metadata": {
            "tags": []
          },
          "execution_count": 36
        }
      ]
    },
    {
      "cell_type": "code",
      "metadata": {
        "colab": {
          "base_uri": "https://localhost:8080/"
        },
        "id": "kiCECkdFsqxs",
        "outputId": "294c4748-d51d-44e7-b446-0dbf95619c05"
      },
      "source": [
        "print('Number of observations in the testing set: ',len(y_test))\n",
        "Counter(y_test)\n"
      ],
      "execution_count": 37,
      "outputs": [
        {
          "output_type": "stream",
          "text": [
            "Number of observations in the testing set:  178915\n"
          ],
          "name": "stdout"
        },
        {
          "output_type": "execute_result",
          "data": {
            "text/plain": [
              "Counter({0: 178790, 1: 125})"
            ]
          },
          "metadata": {
            "tags": []
          },
          "execution_count": 37
        }
      ]
    },
    {
      "cell_type": "code",
      "metadata": {
        "colab": {
          "base_uri": "https://localhost:8080/",
          "height": 315
        },
        "id": "KpjYxGwZ0HCq",
        "outputId": "c280a126-d4ea-4f70-f1ee-3bcdf8523995"
      },
      "source": [
        "matrix = confusion_matrix(y_test, y_test_pred)\n",
        "plt.figure(figsize=(5,5))\n",
        "ax = sns.heatmap(matrix, square=True, annot=True, fmt='d',cbar=True, cmap=plt.cm.GnBu)\n",
        "ax.set_xlabel('Predicted')\n",
        "ax.set_ylabel('Actual')\n",
        "\n",
        "class_labels = ['Not Fatal', 'Fatal']\n",
        "ax.set_xticklabels(class_labels, rotation=0)\n",
        "ax.set_yticklabels(class_labels, rotation=0)\n",
        "ax.set_title('Confusion Matrix')\n",
        "plt.show()"
      ],
      "execution_count": 38,
      "outputs": [
        {
          "output_type": "display_data",
          "data": {
            "image/png": "[encoded data removed]",
            "text/plain": [
              "<Figure size 360x360 with 2 Axes>"
            ]
          },
          "metadata": {
            "tags": []
          }
        }
      ]
    },
    {
      "cell_type": "code",
      "metadata": {
        "colab": {
          "base_uri": "https://localhost:8080/"
        },
        "id": "cqfvMKxPPPU3",
        "outputId": "a14ec378-d039-4ea3-e272-33711784f709"
      },
      "source": [
        "# calculate recall\n",
        "recall = recall_score(y_true=y_test, y_pred=y_test_pred)\n",
        "print('The recall score of this model is: ',recall)"
      ],
      "execution_count": 40,
      "outputs": [
        {
          "output_type": "stream",
          "text": [
            "The recall score of this model is:  0.352\n"
          ],
          "name": "stdout"
        }
      ]
    },
    {
      "cell_type": "markdown",
      "metadata": {
        "id": "mIPV5yw4vqwz"
      },
      "source": [
        "## Interpretation"
      ]
    },
    {
      "cell_type": "code",
      "metadata": {
        "id": "VaeSmULgyhAU"
      },
      "source": [
        ""
      ],
      "execution_count": 47,
      "outputs": []
    },
    {
      "cell_type": "markdown",
      "metadata": {
        "id": "u3q1i3E_J65m"
      },
      "source": [
        "As can be seen from the sheer contrast in the number of fatal crashes and non-fatal crashes, the model for predicting fatality must consider the imbalance in data. This is addressed with oversampling (SMOTE), which entails training the model with artificial data of fatal observations in tandem with the actual training data. Since it is ideal for the model to predict a fatal crash correctly (true positive) and not predict a non-fatal outcome for a fatal outcome (false negative), the recall value is the main metric for evaluating the performance of the model. \n",
        "\n",
        "  The model achieves a recall value of 0.352. Furthermore, out of the 178915 samples in the testing set, 177311 were predicted accurately by the model. However, the model also registed 1523 false positives and 81 false negatives. "
      ]
    },
    {
      "cell_type": "markdown",
      "metadata": {
        "id": "grvOPaP2wJCQ"
      },
      "source": [
        "# Discussion"
      ]
    },
    {
      "cell_type": "markdown",
      "metadata": {
        "id": "rGdZTo3dLvTS"
      },
      "source": [
        "There are certainly measures that can be taken to improve the performance of the model. Firstly, the assumptions made during the preprocessing phase of the procedure must be revisited. Also, although an artificial neural network is suitable for classification tasks, other machine learning algorithms (e.g. support vector machine) should also be tested. Finally, for a finely tuned model, a greater number of combinations of parameters should be tested to determine the best values for the parameters in the model. \n",
        "\n",
        "In addition to altering the data science techniques implemented, the data itself should be scrutinized. For instance, are there any features not included in the dataset that should be? Perhaps, which the inclusion of other variables, the model can return more satisfactory results. "
      ]
    },
    {
      "cell_type": "code",
      "metadata": {
        "id": "jVilOXkiM5h0"
      },
      "source": [
        ""
      ],
      "execution_count": null,
      "outputs": []
    }
  ]
}